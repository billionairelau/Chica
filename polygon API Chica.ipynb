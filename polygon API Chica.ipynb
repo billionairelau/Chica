{
 "cells": [
  {
   "cell_type": "code",
   "execution_count": 14,
   "id": "7cf2655e-40d4-46aa-9452-6f35241731e3",
   "metadata": {
    "execution": {
     "iopub.execute_input": "2021-11-22T15:28:36.847911Z",
     "iopub.status.busy": "2021-11-22T15:28:36.847911Z",
     "iopub.status.idle": "2021-11-22T15:28:37.696910Z",
     "shell.execute_reply": "2021-11-22T15:28:37.696910Z",
     "shell.execute_reply.started": "2021-11-22T15:28:36.847911Z"
    }
   },
   "outputs": [
    {
     "name": "stdout",
     "output_type": "stream",
     "text": [
      "[{\"ev\":\"status\",\"status\":\"connected\",\"message\":\"Connected Successfully\"}]\n",
      "[{\"ev\":\"status\",\"status\":\"auth_failed\",\"message\":\"Your plan doesn't include websocket access. Visit https://polygon.io/pricing to upgrade.\"}]\n",
      "on_close() takes 1 positional argument but 3 were given\n"
     ]
    }
   ],
   "source": [
    "\n",
    "\n",
    "# Be sure to pip install websocket-client\n",
    "# Details: https://pypi.org/project/websocket-client/\n",
    "\n",
    "import websocket\n",
    "\n",
    "def on_message(ws, message):\n",
    "    print(message)\n",
    "\n",
    "def on_error(ws, error):\n",
    "    print(error)\n",
    "\n",
    "def on_close(ws):\n",
    "    print(\"### closed ###\")\n",
    "\n",
    "def on_open(ws):\n",
    "    ws.send('{\"action\":\"auth\",\"params\":\"CceJWIQfJ9729xW0GsOvSYoErEcJ9YpI\"}')\n",
    "    ws.send('{\"action\":\"subscribe\",\"params\":\"C.AUD/USD,C.USD/EUR,C.USD/JPY\"}')\n",
    "\n",
    "if __name__ == \"__main__\":\n",
    "    # websocket.enableTrace(True)\n",
    "    ws = websocket.WebSocketApp(\"wss://socket.polygon.io/forex\",\n",
    "                              on_message = on_message,\n",
    "                              on_error = on_error,\n",
    "                              on_close = on_close)\n",
    "    ws.on_open = on_open\n",
    "    ws.run_forever()"
   ]
  },
  {
   "cell_type": "code",
   "execution_count": 15,
   "id": "438a41e6-cf19-4792-a218-914cf954caa2",
   "metadata": {
    "execution": {
     "iopub.execute_input": "2021-11-22T15:28:37.697909Z",
     "iopub.status.busy": "2021-11-22T15:28:37.697909Z",
     "iopub.status.idle": "2021-11-22T15:28:38.785494Z",
     "shell.execute_reply": "2021-11-22T15:28:38.785494Z",
     "shell.execute_reply.started": "2021-11-22T15:28:37.697909Z"
    },
    "tags": []
   },
   "outputs": [
    {
     "name": "stdout",
     "output_type": "stream",
     "text": [
      "              v          vw         o         c         h         l  \\\n",
      "0     10.474975  58138.4479  58122.15  58180.00  58190.73  58107.10   \n",
      "1     24.205897  58213.3027  58190.73  58274.00  58288.15  58131.00   \n",
      "2     16.838626  58245.9870  58262.97  58265.54  58279.16  58208.32   \n",
      "3     17.331120  58242.7921  58263.76  58183.73  58300.04  58164.50   \n",
      "4     15.087617  58151.5889  58181.71  58100.26  58232.97  58084.85   \n",
      "...         ...         ...       ...       ...       ...       ...   \n",
      "2874  50.785951  58665.9279  58691.40  58698.00  58771.00  58588.00   \n",
      "2875  41.825308  58664.9812  58629.02  58585.99  58748.00  58561.00   \n",
      "2876  25.958848  58665.1362  58593.40  58687.80  58759.00  58559.00   \n",
      "2877  15.430583  58724.2292  58688.05  58739.86  58779.00  58624.20   \n",
      "2878   0.008504  58691.6640  58697.00  58691.00  58697.00  58691.00   \n",
      "\n",
      "                  t     n  \n",
      "0     1637366400000  1271  \n",
      "1     1637366460000  1802  \n",
      "2     1637366520000   484  \n",
      "3     1637366580000   597  \n",
      "4     1637366640000   607  \n",
      "...             ...   ...  \n",
      "2874  1637538900000  1535  \n",
      "2875  1637538960000   790  \n",
      "2876  1637539020000   925  \n",
      "2877  1637539080000   630  \n",
      "2878  1637539140000    28  \n",
      "\n",
      "[2879 rows x 8 columns]\n",
      "<polygon.rest.models.definitions.StocksEquitiesAggregatesApiResponse object at 0x0000024DFBE12250>\n",
      "<class 'polygon.rest.models.definitions.StocksEquitiesAggregatesApiResponse'>\n",
      "['__annotations__', '__class__', '__delattr__', '__dict__', '__dir__', '__doc__', '__eq__', '__format__', '__ge__', '__getattribute__', '__gt__', '__hash__', '__init__', '__init_subclass__', '__le__', '__lt__', '__module__', '__ne__', '__new__', '__reduce__', '__reduce_ex__', '__repr__', '__setattr__', '__sizeof__', '__str__', '__subclasshook__', '__weakref__', '_attribute_is_primitive', '_attributes_to_types', '_swagger_name_to_python', '_unmarshal_json_list', '_unmarshal_json_object', 'adjusted', 'count', 'queryCount', 'request_id', 'results', 'resultsCount', 'status', 'ticker', 'unmarshal_json']\n"
     ]
    }
   ],
   "source": [
    "#This block wants to try out each function of the \"RESTClient\" class object.\n",
    "\n",
    "\n",
    "import datetime\n",
    "import pandas as pd\n",
    "\n",
    "from polygon import RESTClient\n",
    "\n",
    "\n",
    "def ts_to_datetime(ts) -> str:\n",
    "    return datetime.datetime.fromtimestamp(ts / 1000.0).strftime('%Y-%m-%d %H:%M')\n",
    "\n",
    "\n",
    "\n",
    "key = \"CceJWIQfJ9729xW0GsOvSYoErEcJ9YpI\"\n",
    "ticker = \"X:BTCUSD\"\n",
    "multiplier = 1\n",
    "timeframe = \"minute\"\n",
    "from_ = \"2021-11-20\"\n",
    "to = \"2021-11-21\"\n",
    "\n",
    "#df = get_ticker_data(\"X:BTCUSD\",1,\"minute\")\n",
    "#print(df)\n",
    "with RESTClient(key) as client:\n",
    "    random_things = client.stocks_equities_aggregates(\n",
    "      ticker, multiplier, timeframe, from_, to, unadjusted=False)\n",
    "    data_df = pd.DataFrame(random_things.results)\n",
    "    print(data_df)\n",
    "    \n",
    "    \n",
    "    t_rt = type(random_things)\n",
    "    print(random_things)\n",
    "    print(t_rt)\n",
    "    print(dir(random_things))\n",
    "    \n",
    "    #2879 row in 1117am, 22/11/2021\n",
    "    \n",
    "    "
   ]
  },
  {
   "cell_type": "code",
   "execution_count": null,
   "id": "7ebe82ef-7c6b-4100-bf9a-d8a6abf9e606",
   "metadata": {},
   "outputs": [],
   "source": []
  },
  {
   "cell_type": "code",
   "execution_count": 21,
   "id": "9d75f872-0823-4095-ba97-5c2efec3abaa",
   "metadata": {
    "execution": {
     "iopub.execute_input": "2021-11-22T15:30:12.642484Z",
     "iopub.status.busy": "2021-11-22T15:30:12.642484Z",
     "iopub.status.idle": "2021-11-22T15:30:14.000397Z",
     "shell.execute_reply": "2021-11-22T15:30:13.999400Z",
     "shell.execute_reply.started": "2021-11-22T15:30:12.642484Z"
    },
    "tags": []
   },
   "outputs": [
    {
     "name": "stdout",
     "output_type": "stream",
     "text": [
      "                         open      high       low     close     volume     N\n",
      "t                                                                           \n",
      "2021-11-19 00:00:00  56898.46  57042.00  56889.14  57017.38  37.101067   963\n",
      "2021-11-19 00:01:00  57015.87  57219.00  56978.60  57171.00  54.301632  1916\n",
      "2021-11-19 00:02:00  57138.73  57229.83  56920.68  56953.41  54.543534  1236\n",
      "2021-11-19 00:03:00  56923.45  56982.70  56788.00  56823.41  36.325595   939\n",
      "2021-11-19 00:04:00  56823.40  56855.00  56698.00  56791.98  36.392519  1162\n",
      "...                       ...       ...       ...       ...        ...   ...\n",
      "2021-11-21 23:55:00  58691.40  58771.00  58588.00  58698.00  50.785951  1535\n",
      "2021-11-21 23:56:00  58629.02  58748.00  58561.00  58585.99  41.825308   790\n",
      "2021-11-21 23:57:00  58593.40  58759.00  58559.00  58687.80  25.958848   925\n",
      "2021-11-21 23:58:00  58688.05  58779.00  58624.20  58739.86  15.430583   630\n",
      "2021-11-21 23:59:00  58697.00  58697.00  58691.00  58691.00   0.008504    28\n",
      "\n",
      "[4319 rows x 6 columns]\n",
      "0      2021-11-19 00:00:00\n",
      "1      2021-11-19 00:01:00\n",
      "2      2021-11-19 00:02:00\n",
      "3      2021-11-19 00:03:00\n",
      "4      2021-11-19 00:04:00\n",
      "               ...        \n",
      "4314   2021-11-21 23:55:00\n",
      "4315   2021-11-21 23:56:00\n",
      "4316   2021-11-21 23:57:00\n",
      "4317   2021-11-21 23:58:00\n",
      "4318   2021-11-21 23:59:00\n",
      "Name: t, Length: 4319, dtype: datetime64[ns]\n"
     ]
    }
   ],
   "source": [
    "import datetime\n",
    "import pandas as pd\n",
    "\n",
    "from polygon import RESTClient\n",
    "\n",
    "\n",
    "def ts_to_datetime(ts) -> str:\n",
    "    return datetime.datetime.fromtimestamp(ts / 1000.0).strftime('%Y-%m-%d %H:%M')\n",
    "\n",
    "\n",
    "\n",
    "key = \"CceJWIQfJ9729xW0GsOvSYoErEcJ9YpI\"\n",
    "ticker = \"X:BTCUSD\"\n",
    "multiplier = 1\n",
    "timeframe = \"minute\"\n",
    "from_ = \"2021-11-19\"\n",
    "to = \"2021-11-22\"\n",
    "\n",
    "\n",
    "\n",
    "# RESTClient can be used as a context manager to facilitate closing the underlying http session\n",
    "# https://requests.readthedocs.io/en/master/user/advanced/#session-objects\n",
    "with RESTClient(key) as client:\n",
    "    resp = client.crypto_aggregates(ticker, multiplier, timeframe, from_, to, unadjusted=False)\n",
    "    #.crypto_aggregates and forex_aggregates share the same ApiResponse file.\n",
    "    data_df = pd.DataFrame(resp.results)\n",
    "    dt=pd.to_datetime(data_df['t'],unit='ms') #,unit='s')\n",
    "    data_df.index = dt\n",
    "    \n",
    "    dv = data_df[\"v\"]   #volume\n",
    "    dvw = data_df[\"vw\"]  #vwap\n",
    "    do = data_df[\"o\"]  #open\n",
    "    dc = data_df[\"c\"]   #close\n",
    "    dh = data_df[\"h\"]   #high\n",
    "    dl = data_df[\"l\"]   #low\n",
    "    dn = data_df[\"n\"]   #low\n",
    "    \n",
    "    \n",
    "    reset_data = {'open':do,'high':dh,'low':dl,'close':dc,'volume':dv,'N':dn}\n",
    "    reset_data_df = pd.DataFrame(reset_data,index=data_df.index)\n",
    "    \n",
    "\n",
    "    print(reset_data_df)\n",
    "    print(dt)\n",
    "    \n",
    "    #2879 row in 1117am, 22/11/2021\n",
    "    \n",
    "    #maximum return 5000 rows\n",
    "    \n",
    "    "
   ]
  },
  {
   "cell_type": "code",
   "execution_count": null,
   "id": "e9d319f0-3852-4a96-a0f1-7456ffca7d36",
   "metadata": {},
   "outputs": [],
   "source": []
  }
 ],
 "metadata": {
  "kernelspec": {
   "display_name": "Python 3",
   "language": "python",
   "name": "python3"
  },
  "language_info": {
   "codemirror_mode": {
    "name": "ipython",
    "version": 3
   },
   "file_extension": ".py",
   "mimetype": "text/x-python",
   "name": "python",
   "nbconvert_exporter": "python",
   "pygments_lexer": "ipython3",
   "version": "3.8.8"
  }
 },
 "nbformat": 4,
 "nbformat_minor": 5
}
